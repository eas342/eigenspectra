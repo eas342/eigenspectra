{
 "cells": [
  {
   "cell_type": "code",
   "execution_count": 7,
   "metadata": {},
   "outputs": [],
   "source": [
    "# Import functions\n",
    "import numpy as np\n",
    "import matplotlib.pyplot as p\n",
    "% matplotlib inline\n",
    "\n",
    "import eigencurves\n",
    "import eigenmaps\n",
    "import kmeans\n",
    "#import mapPCA\n",
    "import bin_eigenspectra\n",
    "\n",
    "from importlib import import_module\n",
    "planet_name = 'HD189733b'\n",
    "system = import_module('data.planet.{}'.format(planet_name))"
   ]
  },
  {
   "cell_type": "markdown",
   "metadata": {},
   "source": [
    "### Import spectra and generate map"
   ]
  },
  {
   "cell_type": "code",
   "execution_count": 2,
   "metadata": {},
   "outputs": [],
   "source": [
    "# ..."
   ]
  },
  {
   "cell_type": "markdown",
   "metadata": {},
   "source": [
    "### Generate lightcurve using STARRY"
   ]
  },
  {
   "cell_type": "code",
   "execution_count": 3,
   "metadata": {},
   "outputs": [],
   "source": [
    "# ..."
   ]
  },
  {
   "cell_type": "markdown",
   "metadata": {},
   "source": [
    "### Fit eigencurves to lightcurve"
   ]
  },
  {
   "cell_type": "code",
   "execution_count": 4,
   "metadata": {},
   "outputs": [
    {
     "name": "stderr",
     "output_type": "stream",
     "text": [
      "/Users/arthur/Documents/GitHub/eigenspectra/eigencurves.py:148: ComplexWarning: Casting complex values to real discards the imaginary part\n",
      "  spheres[i] += fcoeff.T[j,2*i-1]-fcoeff.T[j,2*(i-1)]\n"
     ]
    }
   ],
   "source": [
    "lcfile = 'data/output_lightcurves/practice1p01renorm'\n",
    "spherearray = eigencurves.eigencurves(lcfile)\n",
    "# spherearray is an array of wavelength x SH coefficents"
   ]
  },
  {
   "cell_type": "markdown",
   "metadata": {},
   "source": [
    "Do we need to output the full posteriors?"
   ]
  },
  {
   "cell_type": "code",
   "execution_count": 5,
   "metadata": {
    "scrolled": true
   },
   "outputs": [
    {
     "name": "stdout",
     "output_type": "stream",
     "text": [
      "(10, 10)\n"
     ]
    }
   ],
   "source": [
    "print(spherearray.shape)"
   ]
  },
  {
   "cell_type": "markdown",
   "metadata": {},
   "source": [
    "### Turn SH coefficients into maps"
   ]
  },
  {
   "cell_type": "markdown",
   "metadata": {},
   "source": [
    "(example)"
   ]
  },
  {
   "cell_type": "markdown",
   "metadata": {},
   "source": [
    "# Loop over 5. to get errors"
   ]
  },
  {
   "cell_type": "code",
   "execution_count": 10,
   "metadata": {},
   "outputs": [],
   "source": [
    "ngroups = 2\n",
    "samples = [spherearray] # output from eigencurves\n",
    "\n",
    "eigenspectra_draws = []\n",
    "kgroup_draws = []\n",
    "for draw in samples:\n",
    "    \n",
    "    wavelengths, maps = eigenmaps.generate_maps(draw, N_lon=100, N_lat=100)\n",
    "    \n",
    "    kgroups = kmeans.kmeans(maps, ngroups)\n",
    "    \n",
    "    eigenspectra = bin_eigenspectra.bin_eigenspectra(maps, kgroups)\n",
    "    \n",
    "    eigenspectra_draws.append(eigenspectra)\n",
    "    kgroup_draws.append(kgroups)"
   ]
  },
  {
   "cell_type": "code",
   "execution_count": null,
   "metadata": {},
   "outputs": [],
   "source": [
    "eigenspectra = np.mean(eigenspectra_draws, axis=0)\n",
    "eigenerrs = np.std(eigenspectra_draws, axis=0)\n",
    "\n",
    "kgroups = np.mean(kgroups_draws, axis=0)"
   ]
  },
  {
   "cell_type": "code",
   "execution_count": null,
   "metadata": {},
   "outputs": [],
   "source": [
    "for spec, err in zip(eigenspectra, eigenerrs):\n",
    "    p.errorbar(waves, spec, err)\n",
    "p.xlabel('Wavelength (micron)')\n",
    "p.ylabel('Fp/Fs (ppm)')\n",
    "p.title('Eigenspectra from light-curve fit')\n",
    "p.show()"
   ]
  },
  {
   "cell_type": "code",
   "execution_count": null,
   "metadata": {},
   "outputs": [],
   "source": [
    "ax = p.imshow(kgroups)\n",
    "cbar = p.colorbar(ax, ticks=np.arange(ngroups))\n",
    "cbar.set_label('# Group')\n",
    "p.xlabel('Latitude')\n",
    "p.ylabel('Longitude')\n",
    "p.title('Retrieved group map')\n",
    "p.show()"
   ]
  },
  {
   "cell_type": "markdown",
   "metadata": {},
   "source": [
    "# Tests"
   ]
  },
  {
   "cell_type": "markdown",
   "metadata": {},
   "source": [
    "### Creat a fake data set"
   ]
  },
  {
   "cell_type": "markdown",
   "metadata": {},
   "source": [
    "Fake data 1, two distinct spectra"
   ]
  },
  {
   "cell_type": "code",
   "execution_count": null,
   "metadata": {},
   "outputs": [],
   "source": [
    "lamdim = 10\n",
    "latdim = 6\n",
    "londim = 4\n",
    "ngroups = 3\n",
    "\n",
    "# dummy flux values\n",
    "waves = np.linspace(1,2,lamdim) # micron\n",
    "spec1 = np.linspace(1000,2000,lamdim) # in ppm\n",
    "spec2 = np.linspace(500,600,lamdim) # in ppm\n",
    "spec2[lamdim//2:-1] *= 0.5\n",
    "\n",
    "spectra1 = [[ spec1+np.random.normal(0,100,lamdim) for _ in range(latdim) ] for __ in range(londim//2)]\n",
    "spectra2 = [[ spec2+np.random.normal(0,100,lamdim) for _ in range(latdim) ] for __ in range(londim//2)]\n",
    "fp_grid = np.array(spectra1+spectra2).T\n",
    "print(fp_grid.shape) # should be wave, lat, lon\n",
    "\n",
    "\n",
    "for lat in range(latdim):\n",
    "    for lon in range(londim):\n",
    "        spec = fp_grid[:,lat,lon]\n",
    "        err = 100 # ppm\n",
    "        p.errorbar(waves, spec, err)\n",
    "p.ylabel('Fp/Fs (ppm)')\n",
    "p.xlabel('Wavelength (micron)')\n",
    "p.show()"
   ]
  },
  {
   "cell_type": "markdown",
   "metadata": {},
   "source": [
    "Fake data 2, smoothly varying spectra"
   ]
  },
  {
   "cell_type": "code",
   "execution_count": null,
   "metadata": {},
   "outputs": [],
   "source": [
    "fp_grid2 = np.empty((lamdim,latdim,londim))\n",
    "for lat in range(latdim):\n",
    "    for lon in range(londim):\n",
    "        f = np.random.uniform(0,1)**2\n",
    "        err = np.random.normal(0,100,lamdim)\n",
    "        fp_grid2[:, lat, lon] = f*spec1 + (1-f)*spec2 + err\n",
    "\n",
    "\n",
    "for lat in range(latdim):\n",
    "    for lon in range(londim):\n",
    "        spec = fp_grid2[:,lat,lon]\n",
    "        err = 100 # ppm\n",
    "        p.errorbar(waves, spec, err)\n",
    "p.ylabel('Fp/Fs (ppm)')\n",
    "p.xlabel('Wavelength (micron)')\n",
    "p.show()"
   ]
  },
  {
   "cell_type": "markdown",
   "metadata": {},
   "source": [
    "### Get groups from K-means clustering"
   ]
  },
  {
   "cell_type": "code",
   "execution_count": null,
   "metadata": {
    "scrolled": true
   },
   "outputs": [],
   "source": [
    "kgroups = kmeans.kmeans(fp_grid, ngroups)\n",
    "\n",
    "kgroups2 = kmeans.kmeans(fp_grid2, ngroups)"
   ]
  },
  {
   "cell_type": "markdown",
   "metadata": {},
   "source": [
    "### Create eigenspectra from K-mean clustering output"
   ]
  },
  {
   "cell_type": "code",
   "execution_count": null,
   "metadata": {},
   "outputs": [],
   "source": [
    "eigenspectra = bin_eigenspectra.bin_eigenspectra(fp_grid, kgroups)\n",
    "\n",
    "eigenspectra2 = bin_eigenspectra.bin_eigenspectra(fp_grid2, kgroups2)"
   ]
  },
  {
   "cell_type": "code",
   "execution_count": null,
   "metadata": {},
   "outputs": [],
   "source": [
    "for spec in eigenspectra:\n",
    "    p.plot(waves, spec)\n",
    "p.title('Distinct spectra (Test 1)')\n",
    "ylim = p.ylim()\n",
    "p.show()\n",
    "\n",
    "for spec in eigenspectra2:\n",
    "    p.plot(waves, spec)\n",
    "p.title('Smooth spectra (Test 2)')\n",
    "p.ylim(ylim)\n",
    "p.show()"
   ]
  }
 ],
 "metadata": {
  "kernelspec": {
   "display_name": "Python 3",
   "language": "python",
   "name": "python3"
  },
  "language_info": {
   "codemirror_mode": {
    "name": "ipython",
    "version": 3
   },
   "file_extension": ".py",
   "mimetype": "text/x-python",
   "name": "python",
   "nbconvert_exporter": "python",
   "pygments_lexer": "ipython3",
   "version": "3.6.0"
  }
 },
 "nbformat": 4,
 "nbformat_minor": 1
}
