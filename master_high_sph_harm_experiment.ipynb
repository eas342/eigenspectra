{
 "cells": [
  {
   "cell_type": "code",
   "execution_count": null,
   "metadata": {},
   "outputs": [],
   "source": [
    "# Import functions\n",
    "import numpy as np\n",
    "import matplotlib.pyplot as p\n",
    "%matplotlib inline\n",
    "\n",
    "import eigensource.add_noise as add_noise\n",
    "import eigencurves\n",
    "import eigenmaps\n",
    "import kmeans\n",
    "#import mapPCA\n",
    "import bin_eigenspectra\n",
    "\n",
    "from importlib import import_module\n",
    "planet_name = 'HD189733b'\n",
    "system = import_module('data.planet.{}'.format(planet_name))"
   ]
  },
  {
   "cell_type": "markdown",
   "metadata": {},
   "source": [
    "### Import spectra and generate map"
   ]
  },
  {
   "cell_type": "code",
   "execution_count": null,
   "metadata": {},
   "outputs": [],
   "source": [
    "# ..."
   ]
  },
  {
   "cell_type": "markdown",
   "metadata": {},
   "source": [
    "### Generate lightcurve using STARRY"
   ]
  },
  {
   "cell_type": "code",
   "execution_count": null,
   "metadata": {},
   "outputs": [],
   "source": [
    "# from gen_lightcurves import prep_map1, create_lightcurves_with_starry\n",
    "# lam, spaxels = prep_map1()\n",
    "# time, lam, dlam, lcurves = create_lightcurves_with_starry(lam, spaxels)"
   ]
  },
  {
   "cell_type": "markdown",
   "metadata": {},
   "source": [
    "Plot map"
   ]
  },
  {
   "cell_type": "code",
   "execution_count": null,
   "metadata": {},
   "outputs": [],
   "source": [
    "# Load lightcurve\n",
    "stuff = np.load(\"data/input_lightcurves/eclipse_lightcurve_test1.npz\")\n",
    "\n",
    "# Parse File\n",
    "lightcurve = stuff[\"lightcurve\"]\n",
    "wl = stuff[\"wl\"]\n",
    "dwl = stuff[\"dwl\"]\n",
    "time = stuff[\"time\"]\n",
    "\n",
    "# Make Plot\n",
    "fig, ax = p.subplots(1, figsize=(14, 5))\n",
    "ax.set_xlabel('Time [days]')\n",
    "ax.set_ylabel('Relative Flux')\n",
    "for i in range(len(wl)):\n",
    "    lc = lightcurve[:,i] - np.min(lightcurve[:,i])\n",
    "    ax.plot(time, lc+1, c = \"C%i\" %(i%9), label = r\"%.2f $\\mu$m\" %(wl[i]))\n",
    "ax.legend(fontsize = 16, ncol = 2)\n",
    "p.show()"
   ]
  },
  {
   "cell_type": "markdown",
   "metadata": {},
   "source": [
    "### Add Noise"
   ]
  },
  {
   "cell_type": "code",
   "execution_count": null,
   "metadata": {},
   "outputs": [],
   "source": [
    "inputLC3D = add_noise.get_lc()\n",
    "noiseDict = add_noise.add_noise(inputLC3D)"
   ]
  },
  {
   "cell_type": "markdown",
   "metadata": {},
   "source": [
    "### Fit eigencurves to lightcurve\n",
    "Actually this is done with `run_higher_sph_harm.py` with results saved in `data/sph_harmonic_coefficients/`"
   ]
  },
  {
   "cell_type": "code",
   "execution_count": null,
   "metadata": {},
   "outputs": [],
   "source": [
    "# import importlib\n",
    "# importlib.reload(eigencurves)\n",
    "\n",
    "#spherearray = eigencurves.eigencurves(noiseDict,plot=True)\n",
    "# spherearray is an array of wavelength x SH coefficents"
   ]
  },
  {
   "cell_type": "code",
   "execution_count": null,
   "metadata": {},
   "outputs": [],
   "source": []
  },
  {
   "cell_type": "markdown",
   "metadata": {},
   "source": [
    "## Show the original map"
   ]
  },
  {
   "cell_type": "code",
   "execution_count": null,
   "metadata": {},
   "outputs": [],
   "source": [
    "origData = np.load(\"data/maps/mystery_map1.npz\")\n",
    "import gen_lightcurves\n",
    "import healpy"
   ]
  },
  {
   "cell_type": "code",
   "execution_count": null,
   "metadata": {},
   "outputs": [],
   "source": [
    "lammin1 = 2.41; lammax1 = 3.98; dlam1 = 0.18\n",
    "spaxels = origData[\"spaxels\"]\n",
    "lam = origData[\"wl\"]\n",
    "lamlo, dlamlo = gen_lightcurves.construct_lam(lammin1, lammax1, dlam=dlam1)\n",
    "Nlamlo = len(lamlo)\n",
    "\n",
    "# Set HealPy pixel numbers\n",
    "Npix = spaxels.shape[0]\n",
    "\n",
    "# Define empty 2d array for spaxels\n",
    "spec2d = np.zeros((Npix, Nlamlo))\n",
    "\n",
    "# Loop over pixels filling with spectra\n",
    "for i in range(Npix):\n",
    "    # Degrade the spectra to lower resolution\n",
    "    spec2d[i,:] = gen_lightcurves.downbin_spec(spaxels[i, :], lam, lamlo, dlam = dlamlo)\n",
    "\n",
    "def show_orig_map(ind=0):\n",
    "    healpy.mollview(spec2d[:,ind], title=r\"%0.2f $\\mu$m\" %lamlo[ind])\n",
    "    p.show()"
   ]
  },
  {
   "cell_type": "code",
   "execution_count": null,
   "metadata": {},
   "outputs": [],
   "source": [
    "show_orig_map(ind=5)"
   ]
  },
  {
   "cell_type": "markdown",
   "metadata": {},
   "source": [
    "## Show retrieved map"
   ]
  },
  {
   "cell_type": "code",
   "execution_count": null,
   "metadata": {},
   "outputs": [],
   "source": [
    "def retrieved_map(ngroups=4,degree=3,waveInd=3):\n",
    "    tmp = np.load(\"data/sph_harmonic_coefficients/spherearray_{}.npz\".format(degree))\n",
    "    sphereHArray = tmp['arr_0']\n",
    "    \n",
    "    londim = 100\n",
    "    latdim = 100\n",
    "    samples = np.array([sphereHArray]) # output from eigencurves\n",
    "    \n",
    "    wavelengths, lats, lons, maps = eigenmaps.generate_maps(samples,\n",
    "                                                            N_lon=londim, N_lat=latdim)\n",
    "    waves = wavelengths[0]\n",
    "    \n",
    "    map_day = maps[0][waveInd][:,londim//4:-londim//4]\n",
    "    extent = np.array([np.min(lons),np.max(lons),np.min(lats),np.max(lats)])/2./np.pi*180\n",
    "    ax = p.imshow(map_day, extent=extent)\n",
    "    cbar = p.colorbar(ax, ticks=np.arange(ngroups))\n",
    "    cbar.set_label('Brightness')\n",
    "    p.ylabel('Latitude')\n",
    "    p.xlabel('Longitude')\n",
    "    p.title('Retrieved group map, n={}, {:.2f}$\\mu$m'.format(degree,waves[waveInd]))\n",
    "    p.show()"
   ]
  },
  {
   "cell_type": "code",
   "execution_count": null,
   "metadata": {},
   "outputs": [],
   "source": [
    "retrieved_map(waveInd=5,degree=5)"
   ]
  },
  {
   "cell_type": "markdown",
   "metadata": {},
   "source": [
    "## Check lightcurves"
   ]
  },
  {
   "cell_type": "code",
   "execution_count": null,
   "metadata": {},
   "outputs": [],
   "source": [
    "import sys\n",
    "import lightcurves_sh\n",
    "\n",
    "if (sys.version_info > (3, 0)):\n",
    "    from importlib import reload\n",
    "\n",
    "reload(eigencurves)\n",
    "reload(lightcurves_sh)"
   ]
  },
  {
   "cell_type": "code",
   "execution_count": null,
   "metadata": {},
   "outputs": [],
   "source": [
    "def check_lightcurve(degree=3,waveInd=0):\n",
    "    \"\"\" Check the lightcurve \"\"\"\n",
    "    tmp = np.load(\"data/sph_harmonic_coefficients/spherearray_{}.npz\".format(degree))\n",
    "    coeff = tmp['arr_0']\n",
    "    t = noiseDict['time (days)']\n",
    "    \n",
    "    sp_params = lightcurves_sh.spider_model(degree=degree,t0=-2.21857567/2.)\n",
    "    sp_params.sph = list(coeff[waveInd,1:])\n",
    "    lc = sp_params.lightcurve(t)\n",
    "    fig, (ax0, ax1) = p.subplots(2)\n",
    "    resid = noiseDict['flux (ppm)'][:,waveInd]- lc * 1e6\n",
    "    ax0.errorbar(t,noiseDict['flux (ppm)'][:,waveInd],fmt='o',\n",
    "                 yerr=noiseDict['flux err (ppm)'][:,waveInd])\n",
    "    ax0.plot(t,lc * 1e6,label='fit')\n",
    "    ax1.errorbar(t,resid,yerr=noiseDict['flux err (ppm)'][:,waveInd],\n",
    "                 fmt='o')\n",
    "    tmp.close()"
   ]
  },
  {
   "cell_type": "code",
   "execution_count": null,
   "metadata": {},
   "outputs": [],
   "source": [
    "check_lightcurve(waveInd=5,degree=5)"
   ]
  },
  {
   "cell_type": "markdown",
   "metadata": {},
   "source": [
    "## Troubleshooting fits stuff"
   ]
  },
  {
   "cell_type": "markdown",
   "metadata": {},
   "source": [
    "Make a dictionary for checking with just two wavelengths"
   ]
  },
  {
   "cell_type": "code",
   "execution_count": null,
   "metadata": {},
   "outputs": [],
   "source": [
    "# checkDict = {}\n",
    "# checkDict['flux err (ppm)'] = noiseDict['flux err (ppm)'][:,5:7]\n",
    "# checkDict['time (days)'] = noiseDict['time (days)']\n",
    "# checkDict['wavelength (um)'] = noiseDict['wavelength (um)'][5:7]\n",
    "# checkDict['flux (ppm)'] = noiseDict['flux (ppm)'][:,5:7]"
   ]
  },
  {
   "cell_type": "code",
   "execution_count": null,
   "metadata": {},
   "outputs": [],
   "source": [
    "# tmp = np.load(\"data/sph_harmonic_coefficients/spherearray_{}.npz\".format(3))\n",
    "# coeff = tmp['arr_0']\n",
    "# coeff[5,:]\n"
   ]
  },
  {
   "cell_type": "code",
   "execution_count": null,
   "metadata": {},
   "outputs": [],
   "source": [
    "# spherearray = eigencurves.eigencurves(checkDict,plot=True,\n",
    "#                                       sph_harm_degree=3)"
   ]
  },
  {
   "cell_type": "code",
   "execution_count": null,
   "metadata": {},
   "outputs": [],
   "source": [
    "# check_lightcurve(degree=3,waveInd=0)"
   ]
  },
  {
   "cell_type": "code",
   "execution_count": null,
   "metadata": {},
   "outputs": [],
   "source": [
    "# spherearray = eigencurves.eigencurves(noiseDict,plot=True,\n",
    "#                                       sph_harm_degree=3)\n",
    "# #spherearray is an array of wavelength x SH coefficents"
   ]
  },
  {
   "cell_type": "markdown",
   "metadata": {},
   "source": [
    "## Get Eigenspectra and Map"
   ]
  },
  {
   "cell_type": "code",
   "execution_count": null,
   "metadata": {},
   "outputs": [],
   "source": [
    "def spec_and_map(ngroups=4,degree=3,specOrder=None):\n",
    "    tmp = np.load(\"data/sph_harmonic_coefficients/spherearray_{}.npz\".format(degree))\n",
    "    sphereHArray = tmp['arr_0']\n",
    "    \n",
    "    londim = 100\n",
    "    latdim = 100\n",
    "    samples = np.array([sphereHArray]) # output from eigencurves\n",
    "    \n",
    "    eigenspectra_draws = []\n",
    "    kgroup_draws = []\n",
    "    \n",
    "    wavelengths, lats, lons, maps = eigenmaps.generate_maps(samples,\n",
    "                                                            N_lon=londim, N_lat=latdim)\n",
    "    waves = wavelengths[0]\n",
    "    \n",
    "    for draw, map_ in zip(samples, maps):\n",
    "        kgroups = kmeans.kmeans(map_, ngroups)\n",
    "        \n",
    "        eigenspectra = bin_eigenspectra.bin_eigenspectra(map_, kgroups)\n",
    "        \n",
    "        eigenspectra_draws.append(eigenspectra)\n",
    "        kgroup_draws.append(kgroups)\n",
    "        \n",
    "    eigenspectra = np.mean(eigenspectra_draws, axis=0)\n",
    "    eigenerrs = np.std(eigenspectra_draws, axis=0)\n",
    "    \n",
    "    kgroups = np.mean(kgroup_draws, axis=0)\n",
    "    \n",
    "    fig, (ax0, ax1) = p.subplots(1,2,figsize=(12,4))\n",
    "    for ind,spec, err in zip(range(ngroups), eigenspectra, eigenerrs):\n",
    "        ax0.errorbar(waves, spec, err, marker='o',\n",
    "                  color=p.cm.viridis(float(ind)/float(ngroups-1)))\n",
    "    ax0.set_xlabel('Wavelength (micron)')\n",
    "    ax0.set_ylabel('Fp/Fs (ppm)')\n",
    "    ax0.set_title('Eigenspectra from light-curve fit, n={}'.format(degree))\n",
    "    \n",
    "    kgroups_day = kgroups[:,londim//4:-londim//4]\n",
    "    extent = np.array([np.min(lons),np.max(lons),np.min(lats),np.max(lats)])/2./np.pi*180\n",
    "    outAx = ax1.imshow(kgroups_day, extent=extent)\n",
    "    cbar = p.colorbar(outAx, ticks=np.arange(ngroups))\n",
    "    cbar.set_label('# Group')\n",
    "    ax1.set_ylabel('Latitude')\n",
    "    ax1.set_xlabel('Longitude')\n",
    "    ax1.set_title('Retrieved group map, n={}'.format(degree))\n",
    "    \n",
    "    fig.savefig('plots/eigenmap_and_spec/eigenmap_and_spec_n_{}.pdf'.format(degree))\n",
    "    \n",
    "    fig.show()\n"
   ]
  },
  {
   "cell_type": "markdown",
   "metadata": {},
   "source": [
    "### Show original 4 spectra"
   ]
  },
  {
   "cell_type": "code",
   "execution_count": null,
   "metadata": {},
   "outputs": [],
   "source": [
    "uniqueSpec, uniqueMap = np.unique(spec2d,axis=0,return_inverse=True)\n",
    "nUniqueSpec = uniqueSpec.shape[0]\n",
    "groupSpec2D = np.zeros(spec2d.shape[0])\n",
    "fig, ax0 = p.subplots()\n",
    "for ind,oneSpec in enumerate(uniqueSpec):\n",
    "    color=p.cm.viridis(float(ind)/float(nUniqueSpec-1))\n",
    "    ax0.plot(noiseDict['wavelength (um)'],oneSpec,color=color,label=\"Spec {}\".format(ind))\n",
    "ax0.legend()\n",
    "ax0.set_xlabel('Wavelength ($\\mu$m)')\n",
    "ax0.set_ylabel('Relative Flux')\n",
    "fig.savefig('plots/original_maps/orig_quadrant_spec.pdf')\n",
    "plotObj = healpy.mollview(uniqueMap,title='Spectral map',unit='Spectrum #')\n",
    "p.savefig('plots/original_maps/orig_quadrant_map.pdf')"
   ]
  },
  {
   "cell_type": "code",
   "execution_count": null,
   "metadata": {},
   "outputs": [],
   "source": [
    "fig, ax = p.subplots()\n",
    "healpy.mollview(uniqueMap,title='Spectral map',hold=True,unit='Spectrum #')"
   ]
  },
  {
   "cell_type": "code",
   "execution_count": null,
   "metadata": {},
   "outputs": [],
   "source": []
  },
  {
   "cell_type": "code",
   "execution_count": null,
   "metadata": {},
   "outputs": [],
   "source": [
    "spec_and_map(ngroups=3,degree=oneDeg)"
   ]
  },
  {
   "cell_type": "code",
   "execution_count": null,
   "metadata": {},
   "outputs": [],
   "source": [
    "for oneDeg in np.arange(2,6+1):\n",
    "    spec_and_map(ngroups=4,degree=oneDeg)"
   ]
  },
  {
   "cell_type": "code",
   "execution_count": null,
   "metadata": {},
   "outputs": [],
   "source": []
  }
 ],
 "metadata": {
  "language_info": {
   "name": "python",
   "pygments_lexer": "ipython3"
  }
 },
 "nbformat": 4,
 "nbformat_minor": 1
}
