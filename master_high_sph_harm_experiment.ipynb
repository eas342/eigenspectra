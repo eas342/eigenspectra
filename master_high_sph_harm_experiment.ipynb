{
 "cells": [
  {
   "cell_type": "code",
   "execution_count": null,
   "metadata": {},
   "outputs": [],
   "source": [
    "# Import functions\n",
    "import numpy as np\n",
    "import matplotlib.pyplot as p\n",
    "%matplotlib inline\n",
    "\n",
    "import eigensource.add_noise as add_noise\n",
    "import eigencurves\n",
    "import eigenmaps\n",
    "import kmeans\n",
    "#import mapPCA\n",
    "import bin_eigenspectra\n",
    "\n",
    "from importlib import import_module\n",
    "planet_name = 'HD189733b'\n",
    "system = import_module('data.planet.{}'.format(planet_name))"
   ]
  },
  {
   "cell_type": "markdown",
   "metadata": {},
   "source": [
    "### Import spectra and generate map"
   ]
  },
  {
   "cell_type": "code",
   "execution_count": null,
   "metadata": {},
   "outputs": [],
   "source": [
    "# ..."
   ]
  },
  {
   "cell_type": "markdown",
   "metadata": {},
   "source": [
    "### Generate lightcurve using STARRY"
   ]
  },
  {
   "cell_type": "code",
   "execution_count": null,
   "metadata": {
    "scrolled": true
   },
   "outputs": [],
   "source": [
    "# from gen_lightcurves import prep_map1, create_lightcurves_with_starry\n",
    "# lam, spaxels = prep_map1()\n",
    "# time, lam, dlam, lcurves = create_lightcurves_with_starry(lam, spaxels)"
   ]
  },
  {
   "cell_type": "markdown",
   "metadata": {},
   "source": [
    "Plot map"
   ]
  },
  {
   "cell_type": "code",
   "execution_count": null,
   "metadata": {
    "scrolled": true
   },
   "outputs": [],
   "source": [
    "# Load lightcurve\n",
    "stuff = np.load(\"data/input_lightcurves/eclipse_lightcurve_test1.npz\")\n",
    "\n",
    "# Parse File\n",
    "lightcurve = stuff[\"lightcurve\"]\n",
    "wl = stuff[\"wl\"]\n",
    "dwl = stuff[\"dwl\"]\n",
    "time = stuff[\"time\"]\n",
    "\n",
    "# Make Plot\n",
    "fig, ax = p.subplots(1, figsize=(14, 5))\n",
    "ax.set_xlabel('Time [days]')\n",
    "ax.set_ylabel('Relative Flux')\n",
    "for i in range(len(wl)):\n",
    "    lc = lightcurve[:,i] - np.min(lightcurve[:,i])\n",
    "    ax.plot(time, lc+1, c = \"C%i\" %(i%9), label = r\"%.2f $\\mu$m\" %(wl[i]))\n",
    "ax.legend(fontsize = 16, ncol = 2)\n",
    "p.show()"
   ]
  },
  {
   "cell_type": "markdown",
   "metadata": {},
   "source": [
    "### Add Noise"
   ]
  },
  {
   "cell_type": "code",
   "execution_count": null,
   "metadata": {},
   "outputs": [],
   "source": [
    "inputLC3D = add_noise.get_lc()\n",
    "noiseDict = add_noise.add_noise(inputLC3D)"
   ]
  },
  {
   "cell_type": "markdown",
   "metadata": {},
   "source": [
    "### Fit eigencurves to lightcurve\n",
    "Actually this is done with `run_higher_sph_harm.py` with results saved in `data/sph_harmonic_coefficients/`"
   ]
  },
  {
   "cell_type": "code",
   "execution_count": null,
   "metadata": {},
   "outputs": [],
   "source": [
    "# import importlib\n",
    "# importlib.reload(eigencurves)\n",
    "\n",
    "#spherearray = eigencurves.eigencurves(noiseDict,plot=True)\n",
    "# spherearray is an array of wavelength x SH coefficents"
   ]
  },
  {
   "cell_type": "code",
   "execution_count": null,
   "metadata": {},
   "outputs": [],
   "source": []
  },
  {
   "cell_type": "markdown",
   "metadata": {},
   "source": [
    "## Show the original map"
   ]
  },
  {
   "cell_type": "code",
   "execution_count": null,
   "metadata": {},
   "outputs": [],
   "source": [
    "origData = np.load(\"data/maps/mystery_map1.npz\")\n",
    "import gen_lightcurves\n",
    "import healpy"
   ]
  },
  {
   "cell_type": "code",
   "execution_count": null,
   "metadata": {},
   "outputs": [],
   "source": [
    "lammin1 = 2.41; lammax1 = 3.98; dlam1 = 0.18\n",
    "spaxels = origData[\"spaxels\"]\n",
    "lam = origData[\"wl\"]\n",
    "lamlo, dlamlo = gen_lightcurves.construct_lam(lammin1, lammax1, dlam=dlam1)\n",
    "Nlamlo = len(lamlo)\n",
    "\n",
    "# Set HealPy pixel numbers\n",
    "Npix = spaxels.shape[0]\n",
    "\n",
    "# Define empty 2d array for spaxels\n",
    "spec2d = np.zeros((Npix, Nlamlo))\n",
    "\n",
    "# Loop over pixels filling with spectra\n",
    "for i in range(Npix):\n",
    "    # Degrade the spectra to lower resolution\n",
    "    spec2d[i,:] = gen_lightcurves.downbin_spec(spaxels[i, :], lam, lamlo, dlam = dlamlo)\n",
    "\n",
    "def show_orig_map(ind=0):\n",
    "    healpy.mollview(spec2d[:,ind], title=r\"%0.2f $\\mu$m\" %lamlo[ind])\n",
    "    p.show()"
   ]
  },
  {
   "cell_type": "code",
   "execution_count": null,
   "metadata": {},
   "outputs": [],
   "source": [
    "show_orig_map(ind=9)"
   ]
  },
  {
   "cell_type": "markdown",
   "metadata": {},
   "source": [
    "## Show retrieved map"
   ]
  },
  {
   "cell_type": "code",
   "execution_count": null,
   "metadata": {},
   "outputs": [],
   "source": [
    "def retrieved_map(ngroups=4,degree=3,waveInd=3):\n",
    "    tmp = np.load(\"data/sph_harmonic_coefficients/spherearray_{}.npz\".format(degree))\n",
    "    sphereHArray = tmp['arr_0']\n",
    "    \n",
    "    londim = 100\n",
    "    latdim = 100\n",
    "    samples = np.array([sphereHArray]) # output from eigencurves\n",
    "    \n",
    "    wavelengths, lats, lons, maps = eigenmaps.generate_maps(samples,\n",
    "                                                            N_lon=londim, N_lat=latdim)\n",
    "    waves = wavelengths[0]\n",
    "    \n",
    "    map_day = maps[0][waveInd][:,londim//4:-londim//4]\n",
    "    extent = np.array([np.min(lons),np.max(lons),np.min(lats),np.max(lats)])/2./np.pi*180\n",
    "    ax = p.imshow(map_day, extent=extent)\n",
    "    cbar = p.colorbar(ax, ticks=np.arange(ngroups))\n",
    "    cbar.set_label('Brightness')\n",
    "    p.ylabel('Latitude')\n",
    "    p.xlabel('Longitude')\n",
    "    p.title('Retrieved group map, n={}, {:.2f}$\\mu$m'.format(degree,waves[waveInd]))\n",
    "    p.show()"
   ]
  },
  {
   "cell_type": "code",
   "execution_count": null,
   "metadata": {},
   "outputs": [],
   "source": [
    "retrieved_map(waveInd=9,degree=3)"
   ]
  },
  {
   "cell_type": "markdown",
   "metadata": {},
   "source": [
    "## Check lightcurves"
   ]
  },
  {
   "cell_type": "code",
   "execution_count": null,
   "metadata": {},
   "outputs": [],
   "source": [
    "import importlib\n",
    "importlib.reload(eigencurves)\n",
    "import lightcurves_sh\n",
    "importlib.reload(lightcurves_sh)"
   ]
  },
  {
   "cell_type": "code",
   "execution_count": null,
   "metadata": {},
   "outputs": [],
   "source": [
    "def check_lightcurve(degree=3,waveInd=0):\n",
    "    \"\"\" Check the lightcurve \"\"\"\n",
    "    tmp = np.load(\"data/sph_harmonic_coefficients/spherearray_{}.npz\".format(degree))\n",
    "    coeff = tmp['arr_0']\n",
    "    sp_params = lightcurves_sh.spider_model(degree=degree,t0=-2.21857567/2.)\n",
    "    sp_params.sph = coeff[waveInd,:]\n",
    "    lc = sp_params.lightcurve(noiseDict['time (days)'])\n",
    "    return lc"
   ]
  },
  {
   "cell_type": "code",
   "execution_count": null,
   "metadata": {},
   "outputs": [],
   "source": [
    "sp_params = lightcurves_sh.spider_model(degree=3,t0=-2.21857567/2.)"
   ]
  },
  {
   "cell_type": "code",
   "execution_count": null,
   "metadata": {},
   "outputs": [],
   "source": [
    "lc = check_lightcurve()"
   ]
  },
  {
   "cell_type": "code",
   "execution_count": null,
   "metadata": {},
   "outputs": [],
   "source": [
    "tmp = np.load(\"data/sph_harmonic_coefficients/spherearray_{}.npz\".format(4))\n",
    "coeff = tmp['arr_0']"
   ]
  },
  {
   "cell_type": "code",
   "execution_count": null,
   "metadata": {},
   "outputs": [],
   "source": [
    "coeff[]"
   ]
  },
  {
   "cell_type": "code",
   "execution_count": null,
   "metadata": {},
   "outputs": [],
   "source": [
    "noiseDict.keys()"
   ]
  },
  {
   "cell_type": "code",
   "execution_count": null,
   "metadata": {},
   "outputs": [],
   "source": []
  },
  {
   "cell_type": "markdown",
   "metadata": {},
   "source": [
    "## Get Eigenspectra and Map"
   ]
  },
  {
   "cell_type": "code",
   "execution_count": null,
   "metadata": {},
   "outputs": [],
   "source": [
    "def spec_and_map(ngroups=4,degree=3):\n",
    "    tmp = np.load(\"data/sph_harmonic_coefficients/spherearray_{}.npz\".format(degree))\n",
    "    sphereHArray = tmp['arr_0']\n",
    "    \n",
    "    londim = 100\n",
    "    latdim = 100\n",
    "    samples = np.array([sphereHArray]) # output from eigencurves\n",
    "    \n",
    "    eigenspectra_draws = []\n",
    "    kgroup_draws = []\n",
    "    \n",
    "    wavelengths, lats, lons, maps = eigenmaps.generate_maps(samples,\n",
    "                                                            N_lon=londim, N_lat=latdim)\n",
    "    waves = wavelengths[0]\n",
    "    \n",
    "    for draw, map_ in zip(samples, maps):\n",
    "        kgroups = kmeans.kmeans(map_, ngroups)\n",
    "        \n",
    "        eigenspectra = bin_eigenspectra.bin_eigenspectra(map_, kgroups)\n",
    "        \n",
    "        eigenspectra_draws.append(eigenspectra)\n",
    "        kgroup_draws.append(kgroups)\n",
    "        \n",
    "    eigenspectra = np.mean(eigenspectra_draws, axis=0)\n",
    "    eigenerrs = np.std(eigenspectra_draws, axis=0)\n",
    "    \n",
    "    kgroups = np.mean(kgroup_draws, axis=0)\n",
    "    \n",
    "    fig, (ax0, ax1) = p.subplots(1,2,figsize=(12,4))\n",
    "    for ind,spec, err in zip(range(ngroups), eigenspectra, eigenerrs):\n",
    "        ax0.errorbar(waves, spec, err, marker='o',\n",
    "                  color=p.cm.viridis(float(ind)/float(ngroups-1)))\n",
    "    ax0.set_xlabel('Wavelength (micron)')\n",
    "    ax0.set_ylabel('Fp/Fs (ppm)')\n",
    "    ax0.set_title('Eigenspectra from light-curve fit, n={}'.format(degree))\n",
    "    \n",
    "    kgroups_day = kgroups[:,londim//4:-londim//4]\n",
    "    extent = np.array([np.min(lons),np.max(lons),np.min(lats),np.max(lats)])/2./np.pi*180\n",
    "    outAx = ax1.imshow(kgroups_day, extent=extent)\n",
    "    cbar = p.colorbar(outAx, ticks=np.arange(ngroups))\n",
    "    cbar.set_label('# Group')\n",
    "    ax1.set_ylabel('Latitude')\n",
    "    ax1.set_xlabel('Longitude')\n",
    "    ax1.set_title('Retrieved group map, n={}'.format(degree))\n",
    "    \n",
    "    fig.savefig('plots/eigenmap_and_spec/eigenmap_and_spec_n_{}.pdf'.format(degree))\n",
    "    \n",
    "    fig.show()\n"
   ]
  },
  {
   "cell_type": "code",
   "execution_count": null,
   "metadata": {},
   "outputs": [],
   "source": [
    "for oneDeg in np.arange(2,6+1):\n",
    "    spec_and_map(ngroups=4,degree=oneDeg)"
   ]
  },
  {
   "cell_type": "code",
   "execution_count": null,
   "metadata": {},
   "outputs": [],
   "source": []
  },
  {
   "cell_type": "code",
   "execution_count": null,
   "metadata": {},
   "outputs": [],
   "source": [
    "# Fake error example\n",
    "full_extent = np.array([np.min(lons)*2,np.max(lons)*2,np.min(lats),np.max(lats)])/2./np.pi*180\n",
    "\n",
    "map_errs = maps[0][0]\n",
    "map_errs[:,-londim//4:] = np.min(map_errs)\n",
    "map_errs[:,:londim//4] = np.min(map_errs)\n",
    "\n",
    "alphas = (map_errs-np.min(map_errs)) / (np.max(map_errs)-np.min(map_errs))\n",
    "\n",
    "# build RGBA data for 3 group case\n",
    "# size (lat,lon,4)\n",
    "# colour each group by R,G,B, using Alpha for errors?\n",
    "X0 = np.zeros((latdim,londim,3)) # without alpha\n",
    "X = np.zeros((latdim, londim, 4)) # with alpha\n",
    "X[:,:,-1] = alphas\n",
    "X[kgroups==0, :-1] = (1.,0,0) # first group are first colour\n",
    "X[kgroups==1, :-1] = (0,1.,0)\n",
    "X[kgroups==2, :-1] = (0,0,1.)\n",
    "X0[kgroups==0] = (1.,0,0) # first group are first colour\n",
    "X0[kgroups==1] = (0,1.,0)\n",
    "X0[kgroups==2] = (0,0,1.)\n",
    "\n",
    "p.title('Full Map ($\\lambda={:.2f} \\mu m$)'.format(waves[0]))\n",
    "p.imshow(X0, extent=full_extent)\n",
    "p.show()\n",
    "\n",
    "p.figure(figsize=(14,6))\n",
    "p.subplot(1,2,1)\n",
    "p.imshow(np.ones((latdim,londim,3)), extent=full_extent) # white background\n",
    "p.imshow(X, extent=full_extent) # group data\n",
    "p.title('Map with (fake) uncertainties')\n",
    "p.subplot(1,2,2)\n",
    "p.imshow(np.zeros((latdim,londim,3)), extent=full_extent) # black background\n",
    "p.imshow(X, extent=full_extent) # group data\n",
    "p.show()"
   ]
  },
  {
   "cell_type": "markdown",
   "metadata": {},
   "source": [
    "# Tests"
   ]
  },
  {
   "cell_type": "markdown",
   "metadata": {},
   "source": [
    "### Creat a fake data set"
   ]
  },
  {
   "cell_type": "markdown",
   "metadata": {},
   "source": [
    "Fake data 1, two distinct spectra"
   ]
  },
  {
   "cell_type": "code",
   "execution_count": null,
   "metadata": {},
   "outputs": [],
   "source": [
    "lamdim = 10\n",
    "latdim = 6\n",
    "londim = 4\n",
    "ngroups = 3\n",
    "\n",
    "# dummy flux values\n",
    "waves = np.linspace(1,2,lamdim) # micron\n",
    "spec1 = np.linspace(1000,2000,lamdim) # in ppm\n",
    "spec2 = np.linspace(500,600,lamdim) # in ppm\n",
    "spec2[lamdim//2:-1] *= 0.5\n",
    "\n",
    "spectra1 = [[ spec1+np.random.normal(0,100,lamdim) for _ in range(latdim) ] for __ in range(londim//2)]\n",
    "spectra2 = [[ spec2+np.random.normal(0,100,lamdim) for _ in range(latdim) ] for __ in range(londim//2)]\n",
    "fp_grid = np.array(spectra1+spectra2).T\n",
    "print(fp_grid.shape) # should be wave, lat, lon\n",
    "\n",
    "\n",
    "for lat in range(latdim):\n",
    "    for lon in range(londim):\n",
    "        spec = fp_grid[:,lat,lon]\n",
    "        err = 100 # ppm\n",
    "        p.errorbar(waves, spec, err)\n",
    "p.ylabel('Fp/Fs (ppm)')\n",
    "p.xlabel('Wavelength (micron)')\n",
    "p.show()"
   ]
  },
  {
   "cell_type": "markdown",
   "metadata": {},
   "source": [
    "Fake data 2, smoothly varying spectra"
   ]
  },
  {
   "cell_type": "code",
   "execution_count": null,
   "metadata": {},
   "outputs": [],
   "source": [
    "fp_grid2 = np.empty((lamdim,latdim,londim))\n",
    "for lat in range(latdim):\n",
    "    for lon in range(londim):\n",
    "        f = np.random.uniform(0,1)**2\n",
    "        err = np.random.normal(0,100,lamdim)\n",
    "        fp_grid2[:, lat, lon] = f*spec1 + (1-f)*spec2 + err\n",
    "\n",
    "\n",
    "for lat in range(latdim):\n",
    "    for lon in range(londim):\n",
    "        spec = fp_grid2[:,lat,lon]\n",
    "        err = 100 # ppm\n",
    "        p.errorbar(waves, spec, err)\n",
    "p.ylabel('Fp/Fs (ppm)')\n",
    "p.xlabel('Wavelength (micron)')\n",
    "p.show()"
   ]
  },
  {
   "cell_type": "markdown",
   "metadata": {},
   "source": [
    "### Get groups from K-means clustering"
   ]
  },
  {
   "cell_type": "code",
   "execution_count": null,
   "metadata": {
    "scrolled": true
   },
   "outputs": [],
   "source": [
    "kgroups = kmeans.kmeans(fp_grid, ngroups)\n",
    "\n",
    "kgroups2 = kmeans.kmeans(fp_grid2, ngroups)"
   ]
  },
  {
   "cell_type": "markdown",
   "metadata": {},
   "source": [
    "### Create eigenspectra from K-mean clustering output"
   ]
  },
  {
   "cell_type": "code",
   "execution_count": null,
   "metadata": {},
   "outputs": [],
   "source": [
    "eigenspectra = bin_eigenspectra.bin_eigenspectra(fp_grid, kgroups)\n",
    "\n",
    "eigenspectra2 = bin_eigenspectra.bin_eigenspectra(fp_grid2, kgroups2)"
   ]
  },
  {
   "cell_type": "code",
   "execution_count": null,
   "metadata": {},
   "outputs": [],
   "source": [
    "for spec in eigenspectra:\n",
    "    p.plot(waves, spec)\n",
    "p.title('Distinct spectra (Test 1)')\n",
    "ylim = p.ylim()\n",
    "p.show()\n",
    "\n",
    "for spec in eigenspectra2:\n",
    "    p.plot(waves, spec)\n",
    "p.title('Smooth spectra (Test 2)')\n",
    "p.ylim(ylim)\n",
    "p.show()"
   ]
  },
  {
   "cell_type": "code",
   "execution_count": null,
   "metadata": {},
   "outputs": [],
   "source": []
  }
 ],
 "metadata": {
  "kernelspec": {
   "display_name": "Python 3",
   "language": "python",
   "name": "python3"
  },
  "language_info": {
   "codemirror_mode": {
    "name": "ipython",
    "version": 3
   },
   "file_extension": ".py",
   "mimetype": "text/x-python",
   "name": "python",
   "nbconvert_exporter": "python",
   "pygments_lexer": "ipython3",
   "version": "3.7.0"
  }
 },
 "nbformat": 4,
 "nbformat_minor": 1
}
