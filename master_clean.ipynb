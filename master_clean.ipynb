{
 "cells": [
  {
   "cell_type": "code",
   "execution_count": null,
   "metadata": {},
   "outputs": [],
   "source": [
    "#Throughout this document, things that can be changed by the user to investigate different \n",
    "#parts of the map are marked with #FINDME\n",
    "\n",
    "# Import functions\n",
    "import numpy as np\n",
    "import matplotlib.pyplot as p\n",
    "%matplotlib inline\n",
    "\n",
    "import eigencurves\n",
    "import eigenmaps\n",
    "import kmeans\n",
    "import bin_eigenspectra\n",
    "import os\n",
    "import pdb\n",
    "import spiderman as sp\n",
    "\n",
    "import gen_lightcurves\n",
    "import healpy as hp\n",
    "\n",
    "import colorcet as cc\n",
    "from colormap2d import generate_map2d\n",
    "from matplotlib import colorbar, cm\n",
    "from matplotlib.colors import BoundaryNorm, Normalize\n",
    "from matplotlib.ticker import FormatStrFormatter, ScalarFormatter\n",
    "from mpl_toolkits.axes_grid1 import make_axes_locatable\n",
    "p.rc('text', usetex=True)\n",
    "p.rc('font', family='serif')\n",
    "\n",
    "import run_higher_sph_harm\n",
    "from eigensource import plot_utils\n",
    "\n",
    "from importlib import import_module\n",
    "planet_name = 'HD189733b'\n",
    "model_name = \"mystery1\" #FINDME: name of the model to perform the fit from\n",
    "filename='data/input_lightcurves/'+model_name+'.npz' #FINDME: for the mystery maps, uncomment this line and skip directly to section \"Perform Inference\" "
   ]
  },
  {
   "cell_type": "markdown",
   "metadata": {},
   "source": [
    "Set the Wavelength Grid"
   ]
  },
  {
   "cell_type": "code",
   "execution_count": null,
   "metadata": {},
   "outputs": [],
   "source": [
    "lammin = 2.41\n",
    "lammax = 3.98\n",
    "\n",
    "lamhr = np.linspace(lammin, lammax, 1000)"
   ]
  },
  {
   "cell_type": "markdown",
   "metadata": {},
   "source": [
    "# Use `gen_lightcurves.spec_flat_with_gaussian()` to generate toy mock spectra"
   ]
  },
  {
   "cell_type": "code",
   "execution_count": null,
   "metadata": {},
   "outputs": [],
   "source": [
    "f1 = gen_lightcurves.spec_flat_with_gaussian(lamhr, A = 0.002, B = 0.001, std = 0.02, xroll = -0.20)\n",
    "f2 = gen_lightcurves.spec_flat_with_gaussian(lamhr, A = 0.003, B = 0.001, std = 0.02, xroll = 0.0)  \n",
    "f3 = gen_lightcurves.spec_flat_with_gaussian(lamhr, A = 0.004, B = 0.001, std = 0.02, xroll = 0.20) \n",
    "f4 = gen_lightcurves.spec_flat_with_gaussian(lamhr, A = 0.005, B = 0.001, std = 0.02, xroll = 0.40) \n",
    "\n",
    "\n",
    "p.plot(lamhr, f1)\n",
    "p.plot(lamhr, f2)\n",
    "p.plot(lamhr, f3)\n",
    "p.plot(lamhr, f4)\n",
    "p.xlabel(\"Wavelength [$\\mu$m]\")\n",
    "p.ylabel(\"Fp/Fs\")"
   ]
  },
  {
   "cell_type": "markdown",
   "metadata": {},
   "source": [
    "# Use `gen_lightcurves.create_quadrant_map()` to paint the spectra onto the planet map"
   ]
  },
  {
   "cell_type": "code",
   "execution_count": null,
   "metadata": {},
   "outputs": [],
   "source": [
    "spaxels = gen_lightcurves.create_quadrant_map(f4, f4, f1, f1)\n",
    "print(np.shape(spaxels))#3072\n",
    "print(np.shape(f1))\n",
    "plot_utils.show_orig_map(lamhr, spaxels);"
   ]
  },
  {
   "cell_type": "markdown",
   "metadata": {},
   "source": [
    "# Generate new input lightcurves"
   ]
  },
  {
   "cell_type": "code",
   "execution_count": null,
   "metadata": {},
   "outputs": [],
   "source": [
    "# Generate the multi-wavelength eclipse lightcurves using starry\n",
    "time, lam, dlam, lcurves = gen_lightcurves.create_lightcurves_with_starry(lamhr, spaxels, \n",
    "                                                                          plot_lightcurves = True, \n",
    "                                                                          plot_diagnostic = True, \n",
    "                                                                          plot_points_on_map_spec=True)\n",
    "\n",
    "# Save as a .npz file in data/input_lightcurves\n",
    "filename='data/input_lightcurves/'+model_name+'.npz'\n",
    "np.savez(filename,time=time,wl=lam,dwl=dlam,lightcurve=lcurves)"
   ]
  },
  {
   "cell_type": "markdown",
   "metadata": {},
   "source": [
    "# Perform inference\n",
    "This can take a while, but the results will be saved for faster future runs."
   ]
  },
  {
   "cell_type": "code",
   "execution_count": null,
   "metadata": {
    "scrolled": false
   },
   "outputs": [],
   "source": [
    "## Results are saved in data/sph_harmonic_coefficients_full_samples\n",
    "for oneOrd in np.arange(3,4): #FINDME: replace arange with degrees of spherical harmonics you want to create fits for\n",
    "    run_higher_sph_harm.run_lc_noise_and_fit(norder=oneOrd,usePath=filename,afew=2)\n",
    "#FINDME: afew=5 sets the number of eigencurves to include when fitting the maps.\n",
    "#Setting afew to an integer between 1 and 10 will fit for that number of eigencurves exactly.\n",
    "#If you set afew>10, the code will fit for the correct number of eigencurves based on the BIC.\n",
    "#If you select to fit for the number of eigencurves, the code will print out how many eigencurves were used for each wavelength.\n",
    "#This routine saves a dictionary under the path data/sph_harmonic_coefficients_full_samples/modelname/spherearray_deg_oneOrd.npz\n",
    "#Dictionary contains the following keywords:\n",
    "# 1. wavelength (um): list of wavelengths\n",
    "# 2. spherical coefficients: coefficients from each step in the MCMC\n",
    "# 3. best fit coefficients: coefficients from the step with the lowest chi-squared\n",
    "# 4. N Params Used: number of parameters in the fit at each wavelength (note that this number is 2 MORE than the number of eigencurves used)\n",
    "# 5. ecoeffList: For each wavelength, lists coefficients for converting from spherical harmonics into eigencurves\n",
    "# 6. escoreList: Lists the eigencurves for each wavelength\n",
    "# 7. elc: Lists lightcurves corresponding to individual spherical harmonic terms (i.e. the input into the PCA to get the eigencurves; same for all wavelengths)\n"
   ]
  },
  {
   "cell_type": "code",
   "execution_count": null,
   "metadata": {},
   "outputs": [],
   "source": [
    "#dataDir='data/sph_harmonic_coefficients_full_samples/'+model_name+'/'\n",
    "dataDir='../checking-eigenmaps/sph_harmonic_coefficients_full_samples/good/'+model_name+'/'\n",
    "waves, lats, lons = plot_utils.get_map_and_plot(waveInd=0,degree=3,dataDir=dataDir,isspider=False,saveName='mystery1_eigenbest')\n",
    "#FINDME: using a different waveInd will show maps at a different wavelength\n",
    "#using a different degree will show a fit with a different number of spherical harmonics\n",
    "#isspider=False uses Arthur's implementation of converting from lightcurves to maps (faster than the SPIDERMAN method and identical maps are produced)\n",
    "#The middle map (labeled 50th percentile map) shows the single best-fit map with the lowest chi-squared"
   ]
  },
  {
   "cell_type": "code",
   "execution_count": null,
   "metadata": {},
   "outputs": [],
   "source": [
    "test=np.load(filename)\n",
    "time=test['time']\n",
    "#np.shape(maps)"
   ]
  },
  {
   "cell_type": "code",
   "execution_count": null,
   "metadata": {},
   "outputs": [],
   "source": [
    "degree=3 #FINDME: change this to investigate fits with different numbers of spherical harmonics\n",
    "ngroups=2 #FINDME: change ngroups to cluster the data into a different number of eigengroups\n",
    "extent=(np.max(time)-np.min(time))/2.21857567+180./360. #phase coverage of the eclipse observations\n",
    "minlon=np.around(extent/2.*100)\n",
    "clons=lons[:,int(100/2.-minlon):int(100/2.+minlon)]\n",
    "clats=lats[:,int(100/2.-minlon):int(100/2.+minlon)]\n",
    "eigenspectra_draws, kgroup_draws,uber_eigenlist, maps = plot_utils.find_groups(dataDir,degree=degree,trySamples=100,\n",
    "                                                                ngroups=ngroups,extent=extent,isspider=False)\n",
    "#FINDME: can change trySamples to set the number of MCMC draws you'd like to use to find the groups (larger number will make it run slower)"
   ]
  },
  {
   "cell_type": "markdown",
   "metadata": {},
   "source": [
    "Find the eigenspectra and their errors"
   ]
  },
  {
   "cell_type": "code",
   "execution_count": null,
   "metadata": {},
   "outputs": [],
   "source": [
    "kgroups = plot_utils.show_spectra_of_groups(eigenspectra_draws,kgroup_draws,uber_eigenlist,waves,degree=degree,saveName='mystery1_eigenbest')"
   ]
  },
  {
   "cell_type": "markdown",
   "metadata": {},
   "source": [
    "## Show histograms of group assignments"
   ]
  },
  {
   "cell_type": "code",
   "execution_count": null,
   "metadata": {},
   "outputs": [],
   "source": [
    "xLons= np.array([-60,-30,0,30]) * np.pi/180. #np.array([-50,-8,40,59])\n",
    "xLats= np.array([-18,-9,-4,10]) * np.pi/180. #np.array([40,-10, 0,-59])\n",
    "# xLons= np.array([-30]) * np.pi/180.\n",
    "# xLats= np.array([45]) * np.pi/180.\n",
    "saveName = 'plots/mystery1_eigenbest_deg_{}_grp_{}.pdf'.format(degree,ngroups) #FINDME: change name to save under different filename\n",
    "eigenmaps.show_group_histos(kgroups,lons,lats,kgroup_draws,\n",
    "                            xLons=xLons,xLats=xLats,\n",
    "                            saveName=saveName)"
   ]
  },
  {
   "cell_type": "code",
   "execution_count": null,
   "metadata": {},
   "outputs": [],
   "source": [
    "plot_utils.do_hue_maps(extent,maps,lons,lats,kgroups,ngroups,hueType='group',saveName='mystery1_eigenbest')"
   ]
  },
  {
   "cell_type": "code",
   "execution_count": null,
   "metadata": {},
   "outputs": [],
   "source": [
    "plot_utils.do_hue_maps(extent,maps,lons,lats,kgroups,ngroups,hueType='flux',saveName='mystery1_eigenbest')"
   ]
  },
  {
   "cell_type": "code",
   "execution_count": null,
   "metadata": {},
   "outputs": [],
   "source": []
  },
  {
   "cell_type": "code",
   "execution_count": null,
   "metadata": {},
   "outputs": [],
   "source": []
  }
 ],
 "metadata": {
  "kernelspec": {
   "display_name": "Python 3",
   "language": "python",
   "name": "python3"
  },
  "language_info": {
   "codemirror_mode": {
    "name": "ipython",
    "version": 3
   },
   "file_extension": ".py",
   "mimetype": "text/x-python",
   "name": "python",
   "nbconvert_exporter": "python",
   "pygments_lexer": "ipython3",
   "version": "3.7.3"
  }
 },
 "nbformat": 4,
 "nbformat_minor": 2
}
