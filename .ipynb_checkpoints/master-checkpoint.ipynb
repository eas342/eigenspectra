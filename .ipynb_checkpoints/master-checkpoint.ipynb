{
 "cells": [
  {
   "cell_type": "code",
   "execution_count": 1,
   "metadata": {},
   "outputs": [],
   "source": [
    "# Import functions\n",
    "import numpy as np\n",
    "import matplotlib.pyplot as p\n",
    "% matplotlib inline\n",
    "\n",
    "import lightcurves_sh\n",
    "import pca_eig\n",
    "import kmeans\n",
    "import bin_eigenspectra\n",
    "\n",
    "from importlib import import_module\n",
    "planet_name = 'HD189733b'\n",
    "system = import_module('data.planet.{}'.format(planet_name))"
   ]
  },
  {
   "cell_type": "markdown",
   "metadata": {},
   "source": [
    "Creat a fake data set"
   ]
  },
  {
   "cell_type": "code",
   "execution_count": null,
   "metadata": {},
   "outputs": [],
   "source": [
    "lamdim = 10\n",
    "latdim = 6\n",
    "londim = 4\n",
    "ngroups = 2\n",
    "\n",
    "# dummy flux values\n",
    "waves = np.linspace(1,2,lamdim) # micron\n",
    "spec1 = np.linspace(1000,2000,lamdim) # in ppm\n",
    "spec2 = np.linspace(500,600,lamdim) # in ppm\n",
    "\n",
    "spectra1 = [[ spec1+np.random.normal(0,100,lamdim) for _ in range(latdim) ] for __ in range(londim/2)]\n",
    "spectra2 = [[ spec2+np.random.normal(0,100,lamdim) for _ in range(latdim) ] for __ in range(londim/2)]\n",
    "fp_grid = np.array(spectra1+spectra2).T\n",
    "print fp_grid.shape # should be wave, lat, lon\n",
    "\n",
    "\n",
    "for lat in range(latdim):\n",
    "    for lon in range(londim):\n",
    "        spec = fp_grid[:,lat,lon]\n",
    "        err = 100 # ppm\n",
    "        p.errorbar(waves, spec, err)\n",
    "p.ylabel('Fp/Fs (ppm)')\n",
    "p.xlabel('Wavelength (micron)')\n",
    "p.show()"
   ]
  },
  {
   "cell_type": "markdown",
   "metadata": {},
   "source": [
    "Get groups from K-means clustering"
   ]
  },
  {
   "cell_type": "code",
   "execution_count": null,
   "metadata": {
    "scrolled": true
   },
   "outputs": [],
   "source": [
    "kgroups = kmeans.kmeans(fp_grid, ngroups)"
   ]
  },
  {
   "cell_type": "markdown",
   "metadata": {},
   "source": [
    "Create eigenspectra"
   ]
  },
  {
   "cell_type": "code",
   "execution_count": null,
   "metadata": {},
   "outputs": [],
   "source": [
    "eigenspectra = bin_eigenspectra.bin_eigenspectra(fp_grid, kgroups)"
   ]
  },
  {
   "cell_type": "code",
   "execution_count": null,
   "metadata": {},
   "outputs": [],
   "source": [
    "for spec in eigenspectra:\n",
    "    p.plot(waves, spec)\n",
    "p.show()"
   ]
  },
  {
   "cell_type": "code",
   "execution_count": null,
   "metadata": {},
   "outputs": [],
   "source": []
  }
 ],
 "metadata": {
  "kernelspec": {
   "display_name": "Python 3",
   "language": "python",
   "name": "python3"
  },
  "language_info": {
   "codemirror_mode": {
    "name": "ipython",
    "version": 3
   },
   "file_extension": ".py",
   "mimetype": "text/x-python",
   "name": "python",
   "nbconvert_exporter": "python",
   "pygments_lexer": "ipython3",
   "version": "3.6.0"
  }
 },
 "nbformat": 4,
 "nbformat_minor": 1
}
