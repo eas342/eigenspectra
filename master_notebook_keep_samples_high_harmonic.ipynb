{
 "cells": [
  {
   "cell_type": "code",
   "execution_count": null,
   "metadata": {},
   "outputs": [],
   "source": [
    "# Import functions\n",
    "import numpy as np\n",
    "import matplotlib.pyplot as p\n",
    "% matplotlib inline\n",
    "\n",
    "import eigencurves\n",
    "import eigenmaps\n",
    "import kmeans\n",
    "#import mapPCA\n",
    "import bin_eigenspectra\n",
    "import os\n",
    "import pdb\n",
    "\n",
    "import gen_lightcurves\n",
    "import healpy\n",
    "\n",
    "import run_higher_sph_harm\n",
    "\n",
    "from importlib import import_module\n",
    "planet_name = 'HD189733b'\n",
    "#system = import_module('data.planet.{}'.format(planet_name))"
   ]
  },
  {
   "cell_type": "markdown",
   "metadata": {},
   "source": [
    "### Import spectra and generate map"
   ]
  },
  {
   "cell_type": "code",
   "execution_count": null,
   "metadata": {},
   "outputs": [],
   "source": [
    "# ..."
   ]
  },
  {
   "cell_type": "markdown",
   "metadata": {},
   "source": [
    "### Generate lightcurve using STARRY"
   ]
  },
  {
   "cell_type": "code",
   "execution_count": null,
   "metadata": {},
   "outputs": [],
   "source": [
    "# ..."
   ]
  },
  {
   "cell_type": "markdown",
   "metadata": {},
   "source": [
    "## Get the noisy lightcurves\n",
    "This is not used because it assumes you already ran `run_higher_sph_harm.py`"
   ]
  },
  {
   "cell_type": "code",
   "execution_count": null,
   "metadata": {},
   "outputs": [],
   "source": [
    "#from eigensource import add_noise"
   ]
  },
  {
   "cell_type": "code",
   "execution_count": null,
   "metadata": {},
   "outputs": [],
   "source": [
    "#inputLC3D = add_noise.get_lc(inputFile='data/input_lightcurves/eclipse_lightcurve_test1.npz')\n",
    "#noiseDict = add_noise.add_noise(inputLC3D)"
   ]
  },
  {
   "cell_type": "markdown",
   "metadata": {},
   "source": [
    "### Fit eigencurves to lightcurve"
   ]
  },
  {
   "cell_type": "code",
   "execution_count": null,
   "metadata": {},
   "outputs": [],
   "source": [
    "## Run higher spherical harmonics\n",
    "## Results are saved in data/sph_harmonic_coefficients_full_samples\n",
    "for oneOrd in np.arange(2,6+1):\n",
    "    run_higher_sph_harm.run_lc_noise_and_fit(norder=oneOrd)\n"
   ]
  },
  {
   "cell_type": "markdown",
   "metadata": {},
   "source": [
    "### Turn SH coefficients into maps"
   ]
  },
  {
   "cell_type": "code",
   "execution_count": null,
   "metadata": {},
   "outputs": [],
   "source": [
    "def retrieve_map_full_samples(degree=3,testNum=1):\n",
    "    dataDir = \"data/sph_harmonic_coefficients_full_samples/eclipse_lightcurve_test{}/\".format(testNum)\n",
    "    tmp = np.load(\"{}spherearray_deg_{}.npz\".format(dataDir,degree))\n",
    "    outDictionary = tmp['arr_0'].tolist()\n",
    "    \n",
    "    londim = 100\n",
    "    latdim = 100\n",
    "    samples = outDictionary['spherical coefficients'] # output from eigencurves\n",
    "    waves = outDictionary['wavelength (um)']\n",
    "    \n",
    "    randomIndices = np.random.randint(0,len(samples),99)\n",
    "    nRandom = len(randomIndices)\n",
    "    \n",
    "    fullMapArray = np.zeros([nRandom,len(waves),londim,latdim])\n",
    "    for drawInd, draw in enumerate(samples[randomIndices]):\n",
    "        inputArr = np.zeros([len(waves),samples.shape[1]+1])\n",
    "        inputArr[:,0] = waves\n",
    "        inputArr[:,1:] = draw.transpose()\n",
    "        \n",
    "        wavelengths, lats, lons, maps = eigenmaps.generate_maps(inputArr,\n",
    "                                                                N_lon=londim, N_lat=latdim)\n",
    "        fullMapArray[drawInd,:,:,:] = maps\n",
    "    \n",
    "    return fullMapArray, lats, lons\n",
    "    \n"
   ]
  },
  {
   "cell_type": "code",
   "execution_count": null,
   "metadata": {},
   "outputs": [],
   "source": [
    "def plot_retrieved_map(fullMapArray,lats,lons,waveInd=3,degree=3):\n",
    "    percentiles = [5,50,95]\n",
    "    mapLowMedHigh = np.percentile(fullMapArray,percentiles,axis=0)\n",
    "    #medianMap = np.median(fullMapArray,axis=0)\n",
    "    londim = fullMapArray.shape[2]\n",
    "    \n",
    "    fig, axArr = p.subplots(1,3,figsize=(22,5))\n",
    "    for ind,onePercentile in enumerate(percentiles):\n",
    "        map_day = mapLowMedHigh[ind][waveInd][:,londim//4:-londim//4]\n",
    "        extent = np.array([np.min(lons),np.max(lons),np.min(lats),np.max(lats)])/2./np.pi*180\n",
    "        plotData = axArr[ind].imshow(map_day, extent=extent)\n",
    "        cbar = fig.colorbar(plotData,ax=axArr[ind])\n",
    "        cbar.set_label('Brightness')\n",
    "        axArr[ind].set_ylabel('Latitude')\n",
    "        axArr[ind].set_xlabel('Longitude')\n",
    "        axArr[ind].set_title(\"{} %\".format(onePercentile))\n",
    "        #axArr[ind].show()\n",
    "    \n",
    "    fig.suptitle('Retrieved group map, n={}, {:.2f}$\\mu$m'.format(degree,waves[waveInd]))\n",
    "\n",
    "def get_map_and_plot(waveInd=3,degree=3,testNum=1):\n",
    "    fullMapArray, lats, lons = retrieve_map_full_samples(degree=degree,testNum=testNum)\n",
    "    plot_retrieved_map(fullMapArray,lats,lons,degree=degree,waveInd=waveInd)\n",
    "\n",
    "def all_sph_degrees(waveInd=5):\n",
    "    for oneDegree in np.arange(2,6+1):\n",
    "        get_map_and_plot(waveInd=waveInd,degree=oneDegree)"
   ]
  },
  {
   "cell_type": "markdown",
   "metadata": {},
   "source": [
    "### Show the original Map"
   ]
  },
  {
   "cell_type": "code",
   "execution_count": null,
   "metadata": {},
   "outputs": [],
   "source": [
    "def show_orig_map(waveInd=0,testNum=1):\n",
    "    \"\"\"\n",
    "    Show the original map at a given wavelength\n",
    "    \n",
    "    Parameters\n",
    "    -----------\n",
    "    waveInd: int\n",
    "        The wavelength index\n",
    "    testNum: int\n",
    "        The test Number (ie. lightcurve number)\n",
    "    \"\"\"\n",
    "    origData = np.load(\"data/maps/mystery_map{}.npz\".format(testNum))\n",
    "    lammin1 = 2.41; lammax1 = 3.98; dlam1 = 0.18\n",
    "    spaxels = origData[\"spaxels\"]\n",
    "    lam = origData[\"wl\"]\n",
    "    lamlo, dlamlo = gen_lightcurves.construct_lam(lammin1, lammax1, dlam=dlam1)\n",
    "    Nlamlo = len(lamlo)\n",
    "\n",
    "    # Set HealPy pixel numbers\n",
    "    Npix = spaxels.shape[0]\n",
    "\n",
    "    # Define empty 2d array for spaxels\n",
    "    spec2d = np.zeros((Npix, Nlamlo))\n",
    "\n",
    "    # Loop over pixels filling with spectra\n",
    "    for i in range(Npix):\n",
    "        # Degrade the spectra to lower resolution\n",
    "        spec2d[i,:] = gen_lightcurves.downbin_spec(spaxels[i, :], lam, lamlo, dlam = dlamlo)\n",
    "\n",
    "\n",
    "    healpy.mollview(spec2d[:,waveInd], title=r\"%0.2f $\\mu$m\" %lamlo[waveInd])\n",
    "    p.show()\n",
    "    return spec2d"
   ]
  },
  {
   "cell_type": "markdown",
   "metadata": {},
   "source": [
    "## Spot check retrieved maps against original for the Quadrant Test Case"
   ]
  },
  {
   "cell_type": "code",
   "execution_count": null,
   "metadata": {},
   "outputs": [],
   "source": [
    "spec2d = show_orig_map(waveInd=1)"
   ]
  },
  {
   "cell_type": "markdown",
   "metadata": {},
   "source": [
    "### Show the posteriors for the retrieved maps"
   ]
  },
  {
   "cell_type": "code",
   "execution_count": null,
   "metadata": {},
   "outputs": [],
   "source": [
    "all_sph_degrees(waveInd=1)"
   ]
  },
  {
   "cell_type": "code",
   "execution_count": null,
   "metadata": {},
   "outputs": [],
   "source": [
    "spec2D = show_orig_map(5)"
   ]
  },
  {
   "cell_type": "code",
   "execution_count": null,
   "metadata": {},
   "outputs": [],
   "source": [
    "all_sph_degrees(5)"
   ]
  },
  {
   "cell_type": "markdown",
   "metadata": {},
   "source": [
    "## Loop over many samples to get eigenmap and eigenspectra Errors"
   ]
  },
  {
   "cell_type": "code",
   "execution_count": null,
   "metadata": {},
   "outputs": [],
   "source": [
    "def find_groups(ngroups=4,degree=2,testNum=1,\n",
    "               trySamples=45):\n",
    "    \"\"\" \n",
    "    Find the eigenspectra using k means clustering\n",
    "    \n",
    "    Parameters\n",
    "    ----------\n",
    "    ngroups: int\n",
    "        Number of eigenspectra to group results into\n",
    "    degree: int\n",
    "        Spherical harmonic degree to draw samples from\n",
    "    testNum: int\n",
    "        Test number (ie. lightcurve number 1,2, etc.)\n",
    "    trySamples: int\n",
    "        Number of samples to find groups with\n",
    "        All samples take a long time so this takes a random\n",
    "        subset of samples from which to draw posteriors\n",
    "    \"\"\"\n",
    "    samplesDir = \"data/sph_harmonic_coefficients_full_samples\"\n",
    "    dataDir = \"{}/eclipse_lightcurve_test{}/\".format(samplesDir,testNum)\n",
    "    tmp = np.load(\"{}spherearray_deg_{}.npz\".format(dataDir,degree))\n",
    "    outDictionary = tmp['arr_0'].tolist()\n",
    "    samples = outDictionary['spherical coefficients'] # output from eigencurves\n",
    "\n",
    "    eigenspectra_draws = []\n",
    "    kgroup_draws = []\n",
    "\n",
    "    randomIndices = np.random.randint(0,len(samples),trySamples)\n",
    "    for draw in samples[randomIndices]:\n",
    "        ## Re-formatting here into a legacy system\n",
    "        ## 1st dimension is wavelength\n",
    "        ## 2nd dimensions is data (0th element = wavelength)\n",
    "        ##                        (1: elements are spherical harmonic coefficients)\n",
    "        inputArr = np.zeros([len(waves),samples.shape[1]+1])\n",
    "        inputArr[:,0] = waves\n",
    "        inputArr[:,1:] = draw.transpose()\n",
    "\n",
    "        wavelengths, lats, lons, maps = eigenmaps.generate_maps(inputArr, N_lon=100, N_lat=100)\n",
    "\n",
    "        kgroups = kmeans.kmeans(maps, ngroups)\n",
    "\n",
    "        eigenspectra = bin_eigenspectra.bin_eigenspectra(maps, kgroups)\n",
    "\n",
    "        eigenspectra_draws.append(eigenspectra)\n",
    "        kgroup_draws.append(kgroups)\n",
    "    return eigenspectra_draws, kgroup_draws"
   ]
  },
  {
   "cell_type": "code",
   "execution_count": null,
   "metadata": {},
   "outputs": [],
   "source": [
    "eigenspectra_draws, kgroup_draws = find_groups(degree=5)"
   ]
  },
  {
   "cell_type": "code",
   "execution_count": null,
   "metadata": {},
   "outputs": [],
   "source": [
    "for oneSpec in np.array(eigenspectra_draws):\n",
    "    p.plot(outDictionary['wavelength (um)'],oneSpec[0,:])\n",
    "p.xlabel('Wavelength ($\\mu$m)')\n",
    "p.ylabel('F$_p$/F$_*$')"
   ]
  },
  {
   "cell_type": "code",
   "execution_count": null,
   "metadata": {},
   "outputs": [],
   "source": [
    "eigenspectra = np.mean(eigenspectra_draws, axis=0)\n",
    "eigenerrs = np.std(eigenspectra_draws, axis=0)\n",
    "\n",
    "kgroups = np.mean(kgroup_draws, axis=0)"
   ]
  },
  {
   "cell_type": "code",
   "execution_count": null,
   "metadata": {},
   "outputs": [],
   "source": [
    "waves = outDictionary['wavelength (um)']\n",
    "for spec, err in zip(eigenspectra, eigenerrs):\n",
    "    p.errorbar(waves, spec, err)\n",
    "p.xlabel('Wavelength (micron)')\n",
    "p.ylabel('Fp/Fs')\n",
    "p.title('Eigenspectra from light-curve fit')\n",
    "p.show()"
   ]
  },
  {
   "cell_type": "code",
   "execution_count": null,
   "metadata": {},
   "outputs": [],
   "source": [
    "def show_eigenspec_and_map(ngroups=4,degree=5):\n",
    "    \"\"\" Show the eigenspectra and map\"\"\"\n",
    "    fig, (ax0, ax1) = p.subplots(1,2,figsize=(12,4))\n",
    "    for ind,spec, err in zip(range(ngroups), eigenspectra, eigenerrs):\n",
    "        ax0.errorbar(waves, spec, err, marker='o',\n",
    "                  color=p.cm.viridis(float(ind)/float(ngroups-1)))\n",
    "    ax0.set_xlabel('Wavelength (micron)')\n",
    "    ax0.set_ylabel('Fp/Fs')\n",
    "    ax0.set_title('Eigenspectra from light-curve fit, n={}'.format(degree))\n",
    "\n",
    "    imData = ax1.imshow(kgroups)\n",
    "    cbar = fig.colorbar(imData, ticks=np.arange(ngroups),ax=ax1)\n",
    "    cbar.set_label('# Group')\n",
    "    ax1.set_xlabel('Latitude')\n",
    "    ax1.set_ylabel('Longitude')\n",
    "    ax1.set_title('Retrieved group map')"
   ]
  },
  {
   "cell_type": "code",
   "execution_count": null,
   "metadata": {},
   "outputs": [],
   "source": [
    "show_eigenspec_and_map()"
   ]
  },
  {
   "cell_type": "markdown",
   "metadata": {},
   "source": [
    "## Show the original spectra and map"
   ]
  },
  {
   "cell_type": "code",
   "execution_count": null,
   "metadata": {},
   "outputs": [],
   "source": [
    "uniqueSpec, uniqueMap = np.unique(spec2d,axis=0,return_inverse=True)\n",
    "nUniqueSpec = uniqueSpec.shape[0]\n",
    "groupSpec2D = np.zeros(spec2d.shape[0])\n",
    "fig, ax0 = p.subplots()\n",
    "for ind,oneSpec in enumerate(uniqueSpec):\n",
    "    color=p.cm.viridis(float(ind)/float(nUniqueSpec-1))\n",
    "    ax0.plot(noiseDict['wavelength (um)'],oneSpec,color=color,label=\"Spec {}\".format(ind))\n",
    "ax0.legend()\n",
    "ax0.set_xlabel('Wavelength ($\\mu$m)')\n",
    "ax0.set_ylabel('Relative Flux')\n",
    "fig.savefig('plots/original_maps/orig_quadrant_spec.pdf')\n",
    "plotObj = healpy.mollview(uniqueMap,title='Spectral map',unit='Spectrum #')\n",
    "p.savefig('plots/original_maps/orig_quadrant_map.pdf')"
   ]
  },
  {
   "cell_type": "markdown",
   "metadata": {},
   "source": [
    "# The Hot Spot Model"
   ]
  },
  {
   "cell_type": "code",
   "execution_count": null,
   "metadata": {},
   "outputs": [],
   "source": [
    "eigenspectra_draws, kgroup_draws = find_groups(degree=3,testNum=2,\n",
    "                                              trySamples=200,ngroups=3)"
   ]
  },
  {
   "cell_type": "code",
   "execution_count": null,
   "metadata": {},
   "outputs": [],
   "source": [
    "for oneSpec in np.array(eigenspectra_draws):\n",
    "    p.plot(outDictionary['wavelength (um)'],oneSpec[0,:],alpha=0.05,\n",
    "          color='blue')\n",
    "p.xlabel('Wavelength ($\\mu$m)')\n",
    "p.ylabel('F$_p$/F$_*$')\n",
    "p.savefig('plots/eigenmap_and_spec/hot_spot_spectra_deg3_3groups.pdf',\n",
    "         bbox_inches='tight')"
   ]
  },
  {
   "cell_type": "code",
   "execution_count": null,
   "metadata": {},
   "outputs": [],
   "source": [
    "eigenspectra = np.mean(eigenspectra_draws, axis=0)\n",
    "eigenerrs = np.std(eigenspectra_draws, axis=0)\n",
    "\n",
    "kgroups = np.mean(kgroup_draws, axis=0)"
   ]
  },
  {
   "cell_type": "code",
   "execution_count": null,
   "metadata": {},
   "outputs": [],
   "source": [
    "waves = outDictionary['wavelength (um)']\n",
    "for spec, err in zip(eigenspectra, eigenerrs):\n",
    "    p.errorbar(waves, spec, err)\n",
    "p.xlabel('Wavelength (micron)')\n",
    "p.ylabel('Fp/Fs')\n",
    "p.title('Eigenspectra from light-curve fit')\n",
    "#p.show()\n",
    "p.savefig('plots/eigenmap_and_spec/'+\n",
    "          'hot_spot_spectra_deg3_3groups_error_bars.pdf',\n",
    "         bbox_inches='tight')"
   ]
  },
  {
   "cell_type": "code",
   "execution_count": null,
   "metadata": {},
   "outputs": [],
   "source": []
  }
 ],
 "metadata": {
  "language_info": {
   "name": "python",
   "pygments_lexer": "ipython3"
  }
 },
 "nbformat": 4,
 "nbformat_minor": 1
}
